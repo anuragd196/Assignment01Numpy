{
 "cells": [
  {
   "cell_type": "markdown",
   "id": "58232be7",
   "metadata": {},
   "source": [
    "### Create a null vector of size 10 but the fifth value which is 1"
   ]
  },
  {
   "cell_type": "code",
   "execution_count": 1,
   "id": "9272a4f9",
   "metadata": {},
   "outputs": [
    {
     "name": "stdout",
     "output_type": "stream",
     "text": [
      "[0. 0. 0. 0. 0. 0. 0. 0. 0. 0.]\n",
      "Update sixth value to 11\n",
      "[0. 0. 0. 0. 0. 1. 0. 0. 0. 0.]\n"
     ]
    }
   ],
   "source": [
    "import numpy as np\n",
    "x = np.zeros(10)\n",
    "print(x)\n",
    "print(\"Update sixth value to 11\")\n",
    "x[5] = 1\n",
    "print(x)"
   ]
  },
  {
   "cell_type": "markdown",
   "id": "00ed9ff5",
   "metadata": {},
   "source": [
    "### Create a vector with values ranging from 10 to 49"
   ]
  },
  {
   "cell_type": "code",
   "execution_count": 2,
   "id": "b8cb62c7",
   "metadata": {},
   "outputs": [
    {
     "name": "stdout",
     "output_type": "stream",
     "text": [
      "Original vector:\n",
      "[10 11 12 13 14 15 16 17 18 19 20 21 22 23 24 25 26 27 28 29 30 31 32 33\n",
      " 34 35 36 37 38 39 40 41 42 43 44 45 46 47 48]\n"
     ]
    }
   ],
   "source": [
    "import numpy as np\n",
    "v = np.arange(10,49)\n",
    "print(\"Original vector:\")\n",
    "print(v)"
   ]
  },
  {
   "cell_type": "markdown",
   "id": "97efa0cf",
   "metadata": {},
   "source": [
    "### Create a 3x3 matrix with values ranging from 0 to 8"
   ]
  },
  {
   "cell_type": "code",
   "execution_count": 6,
   "id": "4db4d646",
   "metadata": {},
   "outputs": [
    {
     "name": "stdout",
     "output_type": "stream",
     "text": [
      "[[ 2  3  4]\n",
      " [ 5  6  7]\n",
      " [ 8  9 10]]\n"
     ]
    }
   ],
   "source": [
    "import numpy as np\n",
    "x =  np.arange(2, 11).reshape(3,3)\n",
    "print(x)"
   ]
  },
  {
   "cell_type": "markdown",
   "id": "34bd3136",
   "metadata": {},
   "source": [
    " ### Find indices of non-zero elements from [1,2,0,0,4,0]"
   ]
  },
  {
   "cell_type": "code",
   "execution_count": 7,
   "id": "2ce8e770",
   "metadata": {},
   "outputs": [
    {
     "name": "stdout",
     "output_type": "stream",
     "text": [
      "Input  array : \n",
      " [1 2 0 0 4 0]\n",
      "Indices of non zero elements :  (array([0, 1, 4], dtype=int64),)\n"
     ]
    }
   ],
   "source": [
    "import numpy as np\n",
    "arr = np.array([1,2,0,0,4,0])\n",
    "  \n",
    "print (\"Input  array : \\n\", arr)\n",
    "    \n",
    "out_tpl = np.nonzero(arr)\n",
    "print (\"Indices of non zero elements : \", out_tpl) "
   ]
  },
  {
   "cell_type": "markdown",
   "id": "08e283f3",
   "metadata": {},
   "source": [
    "  ### Create a 10x10 array with random values and find the minimum and maximum values."
   ]
  },
  {
   "cell_type": "code",
   "execution_count": 8,
   "id": "dda73f21",
   "metadata": {},
   "outputs": [
    {
     "name": "stdout",
     "output_type": "stream",
     "text": [
      "Original Array:\n",
      "[[0.7628395  0.0309641  0.61058834 0.43251834 0.75407973 0.30263459\n",
      "  0.97916366 0.11127641 0.4839363  0.42568618]\n",
      " [0.31170414 0.41273365 0.00868977 0.37524678 0.43531963 0.70111058\n",
      "  0.7831546  0.54852612 0.04586353 0.6123872 ]\n",
      " [0.92243883 0.48591259 0.12185178 0.2055786  0.83896041 0.47055523\n",
      "  0.28249495 0.50971156 0.99530879 0.22448468]\n",
      " [0.69781268 0.83114107 0.10940837 0.72184176 0.24553936 0.49466493\n",
      "  0.16263965 0.43152947 0.19081697 0.25745509]\n",
      " [0.25707418 0.70261852 0.20190738 0.67532962 0.47929239 0.22646237\n",
      "  0.05441721 0.26732842 0.50958003 0.09872714]\n",
      " [0.10294128 0.08844485 0.54499401 0.23495336 0.63816859 0.73665237\n",
      "  0.13510603 0.34064943 0.4060055  0.39930201]\n",
      " [0.22442981 0.38177744 0.97061083 0.82560741 0.55557795 0.17806959\n",
      "  0.38958104 0.35392282 0.14934731 0.19454393]\n",
      " [0.35489425 0.48265214 0.04687917 0.5561765  0.88252725 0.04346906\n",
      "  0.13736285 0.54078449 0.74131256 0.58651222]\n",
      " [0.34938783 0.21695504 0.84325525 0.39167273 0.75647389 0.92847448\n",
      "  0.53543552 0.1164535  0.47489333 0.4382192 ]\n",
      " [0.68457328 0.65255916 0.72234414 0.69509211 0.2582062  0.34206561\n",
      "  0.68155565 0.11527133 0.1922831  0.31383076]]\n",
      "Minimum and Maximum Values:\n",
      "0.008689768884771243 0.9953087937225932\n"
     ]
    }
   ],
   "source": [
    "import numpy as np\n",
    "x = np.random.random((10,10))\n",
    "print(\"Original Array:\")\n",
    "print(x) \n",
    "xmin, xmax = x.min(), x.max()\n",
    "print(\"Minimum and Maximum Values:\")\n",
    "print(xmin, xmax)"
   ]
  },
  {
   "cell_type": "markdown",
   "id": "5c416dbd",
   "metadata": {},
   "source": [
    "### Create a random vector of size 30 and find the mean value."
   ]
  },
  {
   "cell_type": "code",
   "execution_count": 10,
   "id": "c7556479",
   "metadata": {
    "scrolled": true
   },
   "outputs": [
    {
     "name": "stdout",
     "output_type": "stream",
     "text": [
      "Original array:\n",
      "[0.11478418 0.87914079 0.87335401 0.06457485 0.36451719 0.30845263\n",
      " 0.72438432 0.9314666  0.34649221 0.88693354]\n",
      "Mean value :\n",
      "[0.11478418 0.87914079 0.87335401 0.06457485 0.36451719 0.30845263\n",
      " 0.72438432 0.9314666  0.34649221 0.88693354]\n"
     ]
    }
   ],
   "source": [
    "import numpy as np\n",
    "x = np.random.random(10)\n",
    "print(\"Original array:\")\n",
    "print(x)\n",
    "x.mean()\n",
    "print(\"Mean value :\")\n",
    "print(x)"
   ]
  }
 ],
 "metadata": {
  "kernelspec": {
   "display_name": "Python 3 (ipykernel)",
   "language": "python",
   "name": "python3"
  },
  "language_info": {
   "codemirror_mode": {
    "name": "ipython",
    "version": 3
   },
   "file_extension": ".py",
   "mimetype": "text/x-python",
   "name": "python",
   "nbconvert_exporter": "python",
   "pygments_lexer": "ipython3",
   "version": "3.9.12"
  }
 },
 "nbformat": 4,
 "nbformat_minor": 5
}
